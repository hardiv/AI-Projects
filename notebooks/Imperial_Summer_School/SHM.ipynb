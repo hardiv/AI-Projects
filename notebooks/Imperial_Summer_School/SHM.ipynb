{
 "cells": [
  {
   "cell_type": "markdown",
   "metadata": {},
   "source": [
    "# Simple Harmonic Oscillators\n",
    "\n",
    "Consider a mass attached to a spring lying on a frictionless surface as shown in the figure. \n",
    "\n",
    "![shm](images/SHM-rotated.png)<br>\n",
    "\n",
    "The resotoring force on the mass is directly proportional to the extension of the spring so :\n",
    "\n",
    "$$\n",
    "m\\frac{d^2x}{dt^2}=-kx\n",
    "$$\n",
    "\n",
    "Where $k$ is the spring constant for that spring.\n",
    "\n",
    "This can be rewritten as \n",
    "\n",
    "$$\n",
    "\\frac{d^2x}{dt^2} = - \\omega^2 x\n",
    "$$\n",
    "\n",
    "where $\\omega= \\sqrt{k/m}$\n",
    "\n",
    "<b>\n",
    "Write this second order differentional equation as a series of first order differential equations in the box below.\n",
    "</b>"
   ]
  },
  {
   "cell_type": "code",
   "execution_count": null,
   "metadata": {},
   "outputs": [],
   "source": []
  },
  {
   "cell_type": "markdown",
   "metadata": {},
   "source": [
    "<b> Now write a simulation of a similar system with a spring constant $18Nm^{-1}$ and a mass of 0.5 Kg. Plot both the position and the velocity of the mass if intitally you extend the spring by 10cm. Run your simulation for 10s. You should think about what is happening to the energy in this system</b>"
   ]
  },
  {
   "cell_type": "code",
   "execution_count": null,
   "metadata": {
    "scrolled": false
   },
   "outputs": [],
   "source": []
  },
  {
   "cell_type": "markdown",
   "metadata": {},
   "source": [
    "## Damped Oscillators\n",
    "Now you replace the frictionless surface with different surfaces with different amounts of friction. However in each case the friction is proportional to the velocity so the equation of motion becomes:\n",
    "\n",
    "$$\n",
    "m\\frac{d^2x}{dt^2} +b\\frac{dx}{dt} +k x=0\n",
    "$$\n",
    "\n",
    "where b is a constant for the particular surface.\n",
    "This is often written as:\n",
    "\n",
    "$$\n",
    "\\frac{d^2x}{dt^2} +\\gamma\\frac{dx}{dt}+  \\omega^2 x =0\n",
    "$$\n",
    "\n",
    "<b> Modify your simulations to include this damping. Investigate how the motion changes with different values of $b$. Specifically, try values of $b$ that are less than 6, $b=6$ and values for $b$ that are much greater than 6. You should try to describe what you see and decide whether or not the motion is oscillatory or not. Keep the plots as they may be useful in your presentation. You should think about what is happening to the energy in this system</b>\n"
   ]
  },
  {
   "cell_type": "code",
   "execution_count": null,
   "metadata": {},
   "outputs": [],
   "source": []
  },
  {
   "cell_type": "markdown",
   "metadata": {},
   "source": [
    "## Coupled Oscillators\n",
    "\n",
    "Now consider a situation where you have two equal masses connected to two fixed surfaces by springs with a constant $k_11=18Nm^{-1}$. However they are also coupled to each other by a spring of constant $k_22$. As shown below.\n",
    "\n",
    "![coupled oscillator](images/coupled-rotated.png)<br>\n",
    "If the surface is now frictionless (again) their equations of motion then become:\n",
    "\n",
    "$$\n",
    "m\\frac{d^2x_1}{dt^2}=-x_1*k_1+(x_2-x_1)k_2 \\\\\n",
    "m\\frac{d^2x_2}{dt^2}=-x_2*k_1+(x_1-x_2)k_2 \n",
    "$$\n",
    "\n",
    "<b> Rearrange these into a set of four first differential equations.</b>"
   ]
  },
  {
   "cell_type": "code",
   "execution_count": null,
   "metadata": {},
   "outputs": [],
   "source": []
  },
  {
   "cell_type": "markdown",
   "metadata": {},
   "source": [
    "<b>Write a simulation of this situation. I suggest that you start with $k_2$ being a lot smaller than $k_1$. Start the simulation with just one of the masses displaced from its equilibrium situation by 10cm and everything else is at rest. What is happening to the energy here? Save your plots for your presentation</b>"
   ]
  },
  {
   "cell_type": "code",
   "execution_count": null,
   "metadata": {},
   "outputs": [],
   "source": []
  },
  {
   "cell_type": "markdown",
   "metadata": {},
   "source": [
    "\n",
    "## New this year and probably more interesting than Forced Damped Oscillations below so we suggest that you choose to do one or the other.\n",
    "\n",
    "\n",
    "On the first day, you took data with a lightly damped system (your pendulum). Try to investigate the data that you took yesterday. This is how science is really done. \n",
    "\n",
    "\n",
    "Plot the data that you took when you were investigating the the dependency of period on mass (I suggest mass on the $x$ axis and period on the $y$). Try fiting a straight line to it so that you can see if you can see a slope."
   ]
  },
  {
   "cell_type": "code",
   "execution_count": null,
   "metadata": {},
   "outputs": [],
   "source": []
  },
  {
   "cell_type": "markdown",
   "metadata": {},
   "source": [
    "Plot the amplitude data that you took (with error bars) against time. Don't forget the error bars for time are much smaller than the amplitude error and so can be ignored for this.\n",
    "\n",
    "Now fit this curve to obtain a value for $\\gamma$ and hence $b$. "
   ]
  },
  {
   "cell_type": "code",
   "execution_count": null,
   "metadata": {},
   "outputs": [],
   "source": []
  },
  {
   "cell_type": "markdown",
   "metadata": {},
   "source": [
    "\n",
    "Now fit your graph of length against period to extract g with errors. You can use the original data rather than squaring if you write the fit function is written appropriatey."
   ]
  },
  {
   "cell_type": "code",
   "execution_count": null,
   "metadata": {},
   "outputs": [],
   "source": []
  },
  {
   "cell_type": "markdown",
   "metadata": {},
   "source": [
    "<div style=\"background-color: #FFF8C6\">\n",
    "\n",
    "Now remember that $\\omega = \\sqrt{\\frac{g}{l}-\\frac{b^2}{4m^2}}=\\sqrt{\\omega_0^2-\\frac{b^2}{4m^2}}$ and so adapt your program to use this instead using the value for $b$ that you extracted earlier (I suspect that the errors on $b$ will be small and can be neglected). Remember that $T=\\frac{2\\pi}{w}$. How does this change the result? \n",
    "\n",
    "</div>"
   ]
  },
  {
   "cell_type": "code",
   "execution_count": null,
   "metadata": {},
   "outputs": [],
   "source": []
  },
  {
   "cell_type": "markdown",
   "metadata": {},
   "source": [
    "## Forced Damped Oscillators\n",
    "Now consider that instead of being attached to a fixed wall the end of the spring not attached to the massis attached to a moving oscillator that is oscillating with an an amplitude of 5cm and a frequency $\\Omega$\n",
    "\n",
    "<b> Incorporate this into your simulation. Now start with with you mass at rest at the unextended length of the spring. Investigate the motion of the mass for different values of $\\Omega$. You might want to especially consider both the situation where the damping is light (ie b is quite small) and where damping is very heavy (ie b is very large). You should run you simulation for more than 10s (perhaps 100s is better here but do investigate how the mass goes from stationary to its final motion). Take care to look at the amplitude of the motion Keep your plots they will be useful in your presentations tomorrow</b>. "
   ]
  },
  {
   "cell_type": "code",
   "execution_count": null,
   "metadata": {},
   "outputs": [],
   "source": []
  },
  {
   "cell_type": "markdown",
   "metadata": {},
   "source": [
    "<div style=\"background-color: #FFF8C6\">\n",
    "\n",
    "## Adding oscillations and Fourier Transforms\n",
    "\n",
    "Often nature presents us with a sum of waves from different oscillators and often these are simply added togtether. These sums of sinusoids often give us interesting patterns from which we can determine the underlying structure. One such example is in the science of interferometry (try googling Michelson interferometer). Light sourcces are often made of individual lines with a fixed wavlengths and with a Michelson Interferometer, through very tiny movements of a mirror we are able to see the individual peaks and trough of light waves. When we have two  lines very close to each we see a superposition of the two waves.\n",
    "<br>\n",
    "<b> Simply by adding two sinusoides together show the pattern that you would see if you had a light source with two lines. One with a wavelength of of 560nm and another with a wavlength 562nm</b>\n"
   ]
  },
  {
   "cell_type": "code",
   "execution_count": null,
   "metadata": {},
   "outputs": [],
   "source": []
  },
  {
   "cell_type": "markdown",
   "metadata": {},
   "source": [
    "<div style=\"background-color: #FFF8C6\">\n",
    "\n",
    "<b>\n",
    "Look up how to perform a (fast) fourier transform with SciPy and do this on your data. What does it show you?\n",
    "</b>"
   ]
  },
  {
   "cell_type": "code",
   "execution_count": null,
   "metadata": {},
   "outputs": [],
   "source": []
  }
 ],
 "metadata": {
  "kernelspec": {
   "display_name": "Python 3 (ipykernel)",
   "language": "python",
   "name": "python3"
  },
  "language_info": {
   "codemirror_mode": {
    "name": "ipython",
    "version": 3
   },
   "file_extension": ".py",
   "mimetype": "text/x-python",
   "name": "python",
   "nbconvert_exporter": "python",
   "pygments_lexer": "ipython3",
   "version": "3.9.5"
  }
 },
 "nbformat": 4,
 "nbformat_minor": 1
}
